{
 "cells": [
  {
   "cell_type": "code",
   "execution_count": 1,
   "metadata": {
    "collapsed": false
   },
   "outputs": [],
   "source": [
    "import extract_features\n",
    "from sklearn.linear_model import LogisticRegression\n",
    "from sklearn.metrics import classification_report\n",
    "import numpy"
   ]
  },
  {
   "cell_type": "code",
   "execution_count": 2,
   "metadata": {
    "collapsed": true
   },
   "outputs": [],
   "source": [
    "%matplotlib inline\n",
    "\n",
    "\n",
    "%load_ext autoreload\n",
    "%autoreload 2"
   ]
  },
  {
   "cell_type": "code",
   "execution_count": 3,
   "metadata": {
    "collapsed": true
   },
   "outputs": [],
   "source": [
    "extract_features.to_csv('./data/test', 'features_test.csv')\n",
    "extract_features.to_csv('./data/train', 'features_train.csv')\n",
    "extract_features.to_csv('./data/validation', 'features_validation.csv')\n",
    "\n",
    "X, y = extract_features.read_csv('features_train.csv')\n",
    "X_test, y_test = extract_features.read_csv('features_test.csv')"
   ]
  },
  {
   "cell_type": "code",
   "execution_count": 4,
   "metadata": {
    "collapsed": false
   },
   "outputs": [
    {
     "name": "stdout",
     "output_type": "stream",
     "text": [
      "             precision    recall  f1-score   support\n",
      "\n",
      "        0.0       0.53      0.89      0.67         9\n",
      "        1.0       0.67      0.22      0.33         9\n",
      "\n",
      "avg / total       0.60      0.56      0.50        18\n",
      "\n"
     ]
    }
   ],
   "source": [
    "\n",
    "\n",
    "model = LogisticRegression(solver='lbfgs')\n",
    "model = model.fit(X, y)\n",
    "\n",
    "y_true, y_pred = y_test, model.predict(X_test)\n",
    "result = numpy.vstack((y_true,y_pred))\n",
    "\n",
    "numpy.savetxt(\"result_simple.csv\", result, delimiter=\",\")\n",
    "print(classification_report(y_true, y_pred))"
   ]
  },
  {
   "cell_type": "code",
   "execution_count": 7,
   "metadata": {
    "collapsed": false
   },
   "outputs": [
    {
     "name": "stdout",
     "output_type": "stream",
     "text": [
      "learning kmeans 30 \n",
      "             precision    recall  f1-score   support\n",
      "\n",
      "        0.0       0.58      0.78      0.67         9\n",
      "        1.0       0.67      0.44      0.53         9\n",
      "\n",
      "avg / total       0.62      0.61      0.60        18\n",
      "\n"
     ]
    }
   ],
   "source": [
    "k = 30\n",
    "\n",
    "transformer, km = extract_features.train_text_model('./data/train', k)\n",
    "\n",
    "extract_features.to_csv('./data/test', 'features_test.csv', transformer, km, k)\n",
    "extract_features.to_csv('./data/train', 'features_train.csv', transformer, km, k)\n",
    "extract_features.to_csv('./data/validation', 'features_validation.csv', transformer, km, k)\n",
    "\n",
    "X, y = extract_features.read_csv('features_train.csv')\n",
    "X_test, y_test = extract_features.read_csv('features_test.csv')\n",
    "\n",
    "model = LogisticRegression(solver='lbfgs')\n",
    "model = model.fit(X, y)\n",
    "\n",
    "y_true, y_pred = y_test, model.predict(X_test)\n",
    "result = numpy.vstack((y_true,y_pred))\n",
    "\n",
    "numpy.savetxt(\"result_50.csv\", result, delimiter=\",\")\n",
    "\n",
    "print(classification_report(y_true, y_pred))"
   ]
  },
  {
   "cell_type": "code",
   "execution_count": null,
   "metadata": {
    "collapsed": true
   },
   "outputs": [],
   "source": [
    "\n",
    "\n",
    "def regression():\n",
    "\ttransformer, km = train_text_model('./data/train')\n",
    "\n",
    "\tto_csv('./data/test', 'features_test.csv', transformer, km)\n",
    "\tto_csv('./data/train', 'features_train.csv', transformer, km)\n",
    "\tto_csv('./data/validation', 'features_validation.csv', transformer, km)\n",
    "\n",
    "\tX, y = read_csv('features_train.csv')\n",
    "\tX_test, y_test = read_csv('features_test.csv')\n",
    "\n",
    "\tmodel = LogisticRegression(solver='lbfgs')\n",
    "\tmodel = model.fit(X, y)\n",
    "\n",
    "\ty_true, y_pred = y_test, model.predict(X_test)\n",
    "\n",
    "\tresult = numpy.vstack((y_true,y_pred))\n",
    "\tnumpy.savetxt(\"result_50.csv\", result, delimiter=\",\")\n",
    "\n",
    "\tprint(classification_report(y_true, y_pred))\t"
   ]
  }
 ],
 "metadata": {
  "kernelspec": {
   "display_name": "Python 2",
   "language": "python",
   "name": "python2"
  },
  "language_info": {
   "codemirror_mode": {
    "name": "ipython",
    "version": 2
   },
   "file_extension": ".py",
   "mimetype": "text/x-python",
   "name": "python",
   "nbconvert_exporter": "python",
   "pygments_lexer": "ipython2",
   "version": "2.7.6"
  }
 },
 "nbformat": 4,
 "nbformat_minor": 1
}
